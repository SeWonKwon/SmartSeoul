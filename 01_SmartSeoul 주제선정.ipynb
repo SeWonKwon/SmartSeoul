{
 "cells": [
  {
   "cell_type": "markdown",
   "metadata": {},
   "source": [
    "<a href='https://github.com/SeWonKwon' ><div> <img src ='https://slid-capture.s3.ap-northeast-2.amazonaws.com/public/image_upload/6556674324ed41a289a354258718280d/964e5a8b-75ad-41fc-ae75-0ca66d06fbc7.png' align='left' /> </div></a>\n"
   ]
  },
  {
   "cell_type": "markdown",
   "metadata": {},
   "source": [
    "# 서론"
   ]
  },
  {
   "cell_type": "markdown",
   "metadata": {},
   "source": [
    "호주에 공부를 하러 간 첫날에 wifi를 찾기 위해서 스타벅스를 갔던 날이 기억이 난다.\n",
    "\n",
    "느리기도 느렸는데, 영수증에 적힌 1시간짜리 아이디와 password로 겨우겨우 그날 숙소를 잡고, \n",
    "\n",
    "다시금 우리나라의 인터넷 상황에 대하여 다시금 꺠닫게 되었다.\n",
    "\n",
    "~~\n",
    "\n",
    "우리나라의 공공 wifi 생태계는 매우 특별하다.     \n",
    "다른 나라에 비해 통신 요금이 비싸지만, 인터넷 속도 LTE 등의 상황도 좋지만, ~~\n",
    "공공 wifi가 매우 많은 편이다. 이에 관심을 가지고 찾아보게 되었다. \n",
    "\n",
    "현재 진행 상황과 발전 가능성, 그리고 활용 가능성에 대하여 알아 보기 위하여 작은 프로젝트를 시작하게 되었다. \n",
    "\n",
    "우"
   ]
  },
  {
   "cell_type": "markdown",
   "metadata": {},
   "source": [
    "![image1](https://smart.seoul.go.kr/images/cont/vision_icon_01.png)\n",
    "* 사람중심\n",
    "    - 손바닥위의 사람이 있는 아이콘\n",
    "\n",
    "\n",
    "![데이터중심](https://smart.seoul.go.kr/images/cont/vision_icon_02.png)\n",
    "* 데이터 중심\n",
    "    - 도시현상과 시민행동을 데이터화·활용\n",
    "\n",
    "![민관협력](https://smart.seoul.go.kr/images/cont/vision_icon_03.png)\n",
    "* 민관협력\n",
    "    - 민관이 함께 참여하는 스마트시티 추진\n",
    "    \n",
    "![지속가능혁신](https://smart.seoul.go.kr/images/cont/vision_icon_04.png)\n",
    "* 지속가능혁신\n",
    "    - 기업의 신기술 적용, 혁신성장 지원\n",
    "    \n",
    "![플랫폼기반](https://smart.seoul.go.kr/images/cont/vision_icon_05.png)\n",
    "* 플랫폼 기반\n",
    "    - 첨단기술기반 스마트시티생태계 조성\n",
    "\n",
    "\n",
    "\n",
    "\n"
   ]
  },
  {
   "cell_type": "markdown",
   "metadata": {},
   "source": [
    "https://smart.seoul.go.kr/content/view/MN01010000.do"
   ]
  },
  {
   "cell_type": "markdown",
   "metadata": {},
   "source": [
    "출처 : https://smart.seoul.go.kr/board/25/4000/board_view.do?sub=1"
   ]
  },
  {
   "cell_type": "markdown",
   "metadata": {},
   "source": [
    "‘스마트서울 네트워크(S-net)의 실태를 조사해보고, 문제점을 찾아 보도록 하겠다. "
   ]
  },
  {
   "cell_type": "code",
   "execution_count": null,
   "metadata": {},
   "outputs": [],
   "source": []
  }
 ],
 "metadata": {
  "kernelspec": {
   "display_name": "Python 3",
   "language": "python",
   "name": "python3"
  },
  "language_info": {
   "codemirror_mode": {
    "name": "ipython",
    "version": 3
   },
   "file_extension": ".py",
   "mimetype": "text/x-python",
   "name": "python",
   "nbconvert_exporter": "python",
   "pygments_lexer": "ipython3",
   "version": "3.8.5"
  },
  "toc": {
   "base_numbering": 1,
   "nav_menu": {},
   "number_sections": true,
   "sideBar": true,
   "skip_h1_title": false,
   "title_cell": "Table of Contents",
   "title_sidebar": "Contents",
   "toc_cell": false,
   "toc_position": {},
   "toc_section_display": true,
   "toc_window_display": false
  }
 },
 "nbformat": 4,
 "nbformat_minor": 4
}
